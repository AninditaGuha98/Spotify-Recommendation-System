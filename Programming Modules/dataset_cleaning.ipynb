{
  "nbformat": 4,
  "nbformat_minor": 0,
  "metadata": {
    "colab": {
      "name": "dataset_cleaning.ipynb",
      "provenance": [],
      "collapsed_sections": []
    },
    "kernelspec": {
      "name": "python3",
      "display_name": "Python 3"
    }
  },
  "cells": [
    {
      "cell_type": "code",
      "metadata": {
        "id": "yBmKq0A8Iaxq"
      },
      "source": [
        "import pandas as pd\r\n",
        "pd.set_option('display.max_rows', 50)\r\n",
        "pd.set_option('display.max_columns', 500)\r\n",
        "pd.set_option('display.width', 1000)"
      ],
      "execution_count": 62,
      "outputs": []
    },
    {
      "cell_type": "markdown",
      "metadata": {
        "id": "kjQmp7iqWTgl"
      },
      "source": [
        "### Reading all the csv files."
      ]
    },
    {
      "cell_type": "code",
      "metadata": {
        "id": "j4NbHf2TJuIX"
      },
      "source": [
        "df_data = pd.read_csv('data.csv')\r\n",
        "df_artist = pd.read_csv('data_by_artist.csv')\r\n",
        "df_genres = pd.read_csv('data_by_genres.csv')\r\n",
        "df_year = pd.read_csv('data_by_year.csv')\r\n",
        "df_extend_genre = pd.read_csv('data_w_genres.csv')\r\n"
      ],
      "execution_count": 63,
      "outputs": []
    },
    {
      "cell_type": "markdown",
      "metadata": {
        "id": "YS6FAdchWXIL"
      },
      "source": [
        "### Removing any null values if present"
      ]
    },
    {
      "cell_type": "code",
      "metadata": {
        "id": "K_M4zsXbW4BZ"
      },
      "source": [
        "df_data = df_data[df_data['artists'].notna()]\r\n",
        "df_artist = df_artist[df_artist['artists'].notna()]\r\n",
        "df_genres = df_genres[df_genres['genres'].notna()]\r\n",
        "df_year = df_year[df_year['year'].notna()]\r\n",
        "df_extend_genre = df_extend_genre[df_extend_genre['genres'].notna()]"
      ],
      "execution_count": 64,
      "outputs": []
    },
    {
      "cell_type": "markdown",
      "metadata": {
        "id": "XM0K6N_8Was3"
      },
      "source": [
        "### Removing all non-english words from artists name"
      ]
    },
    {
      "cell_type": "code",
      "metadata": {
        "id": "lGM9WSVWwcY6"
      },
      "source": [
        "import numpy as np\r\n",
        "def remove_non_english(df, column):\r\n",
        "  df[column].replace({r'[^\\x00-\\x7F]+':\"\"}, regex=True, inplace=True)\r\n",
        "  df.drop(df[df[column]==''].index, inplace=True)\r\n",
        "  df.index = range(len(df.index))\r\n",
        "  return df\r\n",
        "\r\n",
        "df_data = remove_non_english(df_data,'artists')\r\n",
        "df_extend_genre = remove_non_english(df_extend_genre,'artists')\r\n",
        "df_artist =remove_non_english(df_artist,'artists')\r\n",
        "\r\n"
      ],
      "execution_count": 65,
      "outputs": []
    },
    {
      "cell_type": "markdown",
      "metadata": {
        "id": "NADAe4XlWhjD"
      },
      "source": [
        "### Cleaning and removing blank values from extended genre"
      ]
    },
    {
      "cell_type": "code",
      "metadata": {
        "id": "FrG6-j6FFFKU"
      },
      "source": [
        "df_extend_genre.drop(df_extend_genre[df_extend_genre['genres']==\"[]\"].index, inplace=True)"
      ],
      "execution_count": 66,
      "outputs": []
    },
    {
      "cell_type": "markdown",
      "metadata": {
        "id": "qSDATfGiWnpX"
      },
      "source": [
        "### Making a list of artists with proper names/numbers "
      ]
    },
    {
      "cell_type": "code",
      "metadata": {
        "colab": {
          "base_uri": "https://localhost:8080/"
        },
        "id": "KUBDUfqBSs-j",
        "outputId": "8626ae04-485d-4c0c-e066-41ef6402ebd6"
      },
      "source": [
        "list_of_artists = df_extend_genre['artists'].tolist()\r\n",
        "for val in list_of_artists:\r\n",
        "  if val.isalnum():\r\n",
        "    if val == ' ':\r\n",
        "      print(val)\r\n",
        "      list_of_artists.remove(val)\r\n",
        "  else:  \r\n",
        "      list_of_artists.remove(val)\r\n",
        "print(\"Number of artists: \",len(list_of_artists))"
      ],
      "execution_count": 67,
      "outputs": [
        {
          "output_type": "stream",
          "text": [
            "Number of artists:  10501\n"
          ],
          "name": "stdout"
        }
      ]
    },
    {
      "cell_type": "markdown",
      "metadata": {
        "id": "aDWv4ARjWwUD"
      },
      "source": [
        "### Collecting only the appropriate artists name for the artists csv."
      ]
    },
    {
      "cell_type": "code",
      "metadata": {
        "colab": {
          "base_uri": "https://localhost:8080/"
        },
        "id": "rRLqh-t-TZan",
        "outputId": "ca3799eb-6053-45b5-eeff-c4ea09f4c189"
      },
      "source": [
        "df_artist = df_artist[df_artist['artists'].isin(list_of_artists)]\r\n",
        "df_artist.index = range(len(df_artist.index))\r\n",
        "print(df_artist)"
      ],
      "execution_count": 68,
      "outputs": [
        {
          "output_type": "stream",
          "text": [
            "       mode  count  acousticness                    artists  danceability  duration_ms    energy  instrumentalness  liveness   loudness  speechiness       tempo   valence  popularity  key\n",
            "0         1    122      0.173145        \"Weird Al\" Yankovic      0.662787  218948.1967  0.695393          0.000050  0.161102  -9.768705     0.084536  133.031180  0.751344   34.229508    9\n",
            "1         1      2      0.239000                $atori Zoom      0.883000  141519.0000  0.625000          0.000000  0.076500  -4.098000     0.245000  126.677000  0.871000   67.000000    6\n",
            "2         1    125      0.141485                $uicideBoy$      0.749344  146386.3920  0.635552          0.045675  0.202253  -6.631304     0.156108  115.022024  0.287286   61.800000    1\n",
            "3         1      9      0.553889  'Legally Blonde' Ensemble      0.648444  304211.8889  0.441111          0.000025  0.214667 -11.459778     0.495111  114.808444  0.524778   48.666667    2\n",
            "4         1     16      0.105556               'Til Tuesday      0.557125  255213.5000  0.612250          0.023300  0.127587  -9.638125     0.032150  103.080250  0.532625   34.625000    0\n",
            "...     ...    ...           ...                        ...           ...          ...       ...               ...       ...        ...          ...         ...       ...         ...  ...\n",
            "10675     1      8      0.984250                                 0.523750  357166.5000  0.235000          0.345342  0.210000 -11.607500     0.052150  120.785000  0.504000   13.250000    7\n",
            "10676     1     16      0.729625                                 0.354875  433434.8750  0.549500          0.854625  0.312937 -10.923625     0.036737  116.318375  0.586875    2.125000   10\n",
            "10677     1      2      0.116300                                 0.599000  369240.0000  0.579500          0.644000  0.082500 -14.964000     0.043150  115.817000  0.743500   33.500000    0\n",
            "10678     1      2      0.001810                                 0.588000   96149.0000  0.978000          0.011200  0.363000  -4.884000     0.031100  125.818000  0.637000   54.000000    1\n",
            "10679     1     10      0.350400                                 0.557000  483925.2000  0.387000          0.846800  0.149160 -13.733600     0.037400   92.183000  0.385800   37.800000    9\n",
            "\n",
            "[10680 rows x 15 columns]\n"
          ],
          "name": "stdout"
        }
      ]
    },
    {
      "cell_type": "markdown",
      "metadata": {
        "id": "7CD7gKDeZvlW"
      },
      "source": [
        "### Removing duplicates"
      ]
    },
    {
      "cell_type": "code",
      "metadata": {
        "colab": {
          "base_uri": "https://localhost:8080/"
        },
        "id": "L0EAqM4WAnwC",
        "outputId": "2cd26529-8536-4e85-ab81-ee4f3159f201"
      },
      "source": [
        "df_data = df_data.drop_duplicates(['year','artists'],keep= 'last')\r\n",
        "print(df_data)"
      ],
      "execution_count": 69,
      "outputs": [
        {
          "output_type": "stream",
          "text": [
            "        valence  year  acousticness                                            artists  danceability  duration_ms  energy  explicit                      id  instrumentalness  key  liveness  loudness  mode                             name  popularity release_date  speechiness    tempo\n",
            "3         0.165  1921       0.96700                                   ['Frank Parker']         0.275       210000   0.309         0  3ftBPsC5vPBKxYSee08FDH          0.000028    5    0.3810    -9.316     1                        Danny Boy           3         1921       0.0354  100.109\n",
            "12        0.493  1921       0.99000                                        ['Georgel']         0.315       190800   0.363         0  0H3k2CvJvHULnWChlbeFgx          0.000000    5    0.2920   -12.562     0                        La Vipère           0         1921       0.0546  174.532\n",
            "14        0.493  1921       0.01750                                     ['Zay Gatsby']         0.527       205072   0.691         1  0MJZ4hh60zwsYleWWxT5yW          0.384000    7    0.3580    -7.298     1                   Power Is Power           0   1921-03-27       0.0326  159.935\n",
            "17        0.664  1921       0.99600             ['Hector Berlioz', 'Arturo Toscanini']         0.541       250747   0.283         0  0POO8XaUgW5Qjbv9sbDy8W          0.898000    9    0.3930   -14.808     1                    Rákóczy March           0         1921       0.0477  108.986\n",
            "21        0.240  1921       0.99400              ['John McCormack', 'Edwin Schneider']         0.400       187333   0.155         0  0RPKAq5yhbom6hXQz5qo6L          0.000043    4    0.1030   -13.976     1                   Mother Machree           0         1921       0.0873  170.251\n",
            "...         ...   ...           ...                                                ...           ...          ...     ...       ...                     ...               ...  ...       ...       ...   ...                              ...         ...          ...          ...      ...\n",
            "170648    0.608  2020       0.08460  ['Anuel AA', 'Daddy Yankee', 'KAROL G', 'Ozuna...         0.786       301714   0.808         0  0KkIkfsLEJbrcIhYsCL7L5          0.000289    7    0.0822    -3.702     1                            China          72   2020-05-29       0.0881  105.029\n",
            "170649    0.734  2020       0.20600                                       ['Ashnikko']         0.717       150654   0.753         0  0OStKKAuXlxA0fMH54Qs6E          0.000000    7    0.1010    -6.020     1      Halloweenie III: Seven Days          68   2020-10-23       0.0605  137.936\n",
            "170650    0.637  2020       0.10100                                        ['MAMAMOO']         0.634       211280   0.858         0  4BZXVFYCb76Q0Klojq4piV          0.000009    4    0.2580    -2.226     0                              AYA          76   2020-11-03       0.0809   91.688\n",
            "170651    0.195  2020       0.00998                                         ['Eminem']         0.671       337147   0.623         1  5SiZJoLXp3WOl3J4C8IK0d          0.000008    2    0.6430    -7.161     1                         Darkness          70   2020-01-17       0.3080   75.055\n",
            "170652    0.642  2020       0.13200                              ['KEVVO', 'J Balvin']         0.856       189507   0.721         1  7HmnJHfs0BkFzX4x8j0hkl          0.004710    7    0.1820    -4.928     1  Billetes Azules (with J Balvin)          74   2020-10-16       0.1080   94.991\n",
            "\n",
            "[58010 rows x 19 columns]\n"
          ],
          "name": "stdout"
        }
      ]
    },
    {
      "cell_type": "markdown",
      "metadata": {
        "id": "VKGp5LFMZzG3"
      },
      "source": [
        "### Removing any other characters present (found manually)"
      ]
    },
    {
      "cell_type": "code",
      "metadata": {
        "colab": {
          "base_uri": "https://localhost:8080/"
        },
        "id": "9LIzhN_GBvCL",
        "outputId": "6954e202-fcac-485e-b265-758d578e4dea"
      },
      "source": [
        "df_extend_genre.drop(df_extend_genre[ (df_extend_genre['artists']==\" ''\") | (df_extend_genre['artists']==\" \")].index, inplace=True)\r\n",
        "df_artist.drop(df_artist[ (df_artist['artists']==\" ''\") | (df_artist['artists']==\" \") | (df_artist['artists']==\".\") | (df_artist['artists']==\"..\")| (df_artist['artists']==\"/\")| (df_artist['artists']==\"-\")].index, inplace=True)\r\n",
        "df_data.drop(df_data[ (df_data['artists']==\"[' ']\") | (df_data['artists']==\"['']\")].index, inplace=True)\r\n",
        "df_genres.drop(df_genres[df_genres['genres']=='[]'].index, inplace=True)\r\n",
        "print(\"Extended Genre:\\n \",df_extend_genre)\r\n",
        "print(\"\\n\\n Artists:\\n \",df_artist)\r\n",
        "print(\"\\n\\n Main Data:\\n \",df_data)\r\n",
        "print(\"\\n\\n Genres:\\n \",df_genres)"
      ],
      "execution_count": 70,
      "outputs": [
        {
          "output_type": "stream",
          "text": [
            "Extended Genre:\n",
            "                                                    genres                           artists  acousticness  danceability    duration_ms    energy  instrumentalness  liveness   loudness  speechiness       tempo   valence  popularity  key  mode  count\n",
            "0                                         ['show tunes']  \"Cats\" 1981 Original London Cast      0.590111      0.467222  250318.555556  0.394003          0.011400  0.290833 -14.448000     0.210389  117.518111  0.389500   38.333333    5     1      9\n",
            "8                     ['comedy rock', 'comic', 'parody']               \"Weird Al\" Yankovic      0.173145      0.662787  218948.196721  0.695393          0.000050  0.161102  -9.768705     0.084536  133.031180  0.751344   34.229508    9     1    122\n",
            "9      ['emo rap', 'florida rap', 'sad rap', 'undergr...                              $NOT      0.544467      0.789800  137910.466667  0.532933          0.023063  0.180300  -9.149267     0.293687  112.344800  0.480700   67.533333    1     1     15\n",
            "10                             ['dark trap', 'meme rap']                       $atori Zoom      0.239000      0.883000  141519.000000  0.625000          0.000000  0.076500  -4.098000     0.245000  126.677000  0.871000   67.000000    6     1      2\n",
            "12     ['asian american hip hop', 'cali rap', 'west c...                      $tupid Young      0.148100      0.854000  190572.000000  0.683000          0.000002  0.188500  -6.997000     0.221000  100.724500  0.625500   57.500000    1     1      2\n",
            "...                                                  ...                               ...           ...           ...            ...       ...               ...       ...        ...          ...         ...       ...         ...  ...   ...    ...\n",
            "28322       ['musique concrete', 'turkish experimental']                     lhan Mimarolu      0.120000      0.549000  562960.000000  0.527000          0.000030  0.395000 -10.149000     0.154000  133.726000  0.722000   32.000000    5     0      2\n",
            "28324         ['narodna muzika', 'sevdah', 'turbo folk']                         aban auli      0.304000      0.540000  186507.000000  0.408000          0.000001  0.554000 -13.361000     0.032200   94.008000  0.709000   45.000000    2     0      2\n",
            "28325  ['balkan brass', 'croatian pop', 'croatian roc...                       eljko Bebek      0.224100      0.569000  238586.500000  0.818500          0.000004  0.095500  -6.640500     0.042500   95.920000  0.564000   43.500000    7     1      4\n",
            "28540                                   ['russian folk']                              . .       0.969000      0.357000  212693.000000  0.390000          0.000012  0.088400 -12.126000     0.036400  146.648000  0.229000   41.000000    9     0      2\n",
            "28547                                   ['russian jazz']                                        0.636733      0.599917  119911.500000  0.304917          0.000225  0.158767 -15.741000     0.114125  115.809667  0.758000   35.833333    9     0     12\n",
            "\n",
            "[18762 rows x 16 columns]\n",
            "\n",
            "\n",
            " Artists:\n",
            "         mode  count  acousticness                    artists  danceability  duration_ms    energy  instrumentalness  liveness   loudness  speechiness       tempo   valence  popularity  key\n",
            "0         1    122      0.173145        \"Weird Al\" Yankovic      0.662787  218948.1967  0.695393      4.980000e-05  0.161102  -9.768705     0.084536  133.031180  0.751344   34.229508    9\n",
            "1         1      2      0.239000                $atori Zoom      0.883000  141519.0000  0.625000      0.000000e+00  0.076500  -4.098000     0.245000  126.677000  0.871000   67.000000    6\n",
            "2         1    125      0.141485                $uicideBoy$      0.749344  146386.3920  0.635552      4.567510e-02  0.202253  -6.631304     0.156108  115.022024  0.287286   61.800000    1\n",
            "3         1      9      0.553889  'Legally Blonde' Ensemble      0.648444  304211.8889  0.441111      2.540000e-05  0.214667 -11.459778     0.495111  114.808444  0.524778   48.666667    2\n",
            "4         1     16      0.105556               'Til Tuesday      0.557125  255213.5000  0.612250      2.330025e-02  0.127587  -9.638125     0.032150  103.080250  0.532625   34.625000    0\n",
            "...     ...    ...           ...                        ...           ...          ...       ...               ...       ...        ...          ...         ...       ...         ...  ...\n",
            "10492     1     13      0.155923                  engo Flow      0.749154  358203.1538  0.717000      3.530000e-07  0.260692  -5.635154     0.242454  113.836539  0.575462   66.076923    2\n",
            "10493     1      8      0.973750              lafur Arnalds      0.350750  215323.0000  0.128075      9.390000e-01  0.099000 -23.222750     0.036925  118.161750  0.108450   58.750000    0\n",
            "10494     1     40      0.420430                scar Medina      0.606500  277211.9500  0.476150      7.510000e-07  0.189870 -10.224300     0.028560  111.161350  0.475550   37.800000    4\n",
            "10495     0      2      0.120000              lhan Mimarolu      0.549000  562960.0000  0.527000      3.020000e-05  0.395000 -10.149000     0.154000  133.726000  0.722000   32.000000    5\n",
            "10496     1      4      0.224100                eljko Bebek      0.569000  238586.5000  0.818500      3.870000e-06  0.095500  -6.640500     0.042500   95.920000  0.564000   43.500000    7\n",
            "\n",
            "[10497 rows x 15 columns]\n",
            "\n",
            "\n",
            " Main Data:\n",
            "          valence  year  acousticness                                            artists  danceability  duration_ms  energy  explicit                      id  instrumentalness  key  liveness  loudness  mode                             name  popularity release_date  speechiness    tempo\n",
            "3         0.165  1921       0.96700                                   ['Frank Parker']         0.275       210000   0.309         0  3ftBPsC5vPBKxYSee08FDH          0.000028    5    0.3810    -9.316     1                        Danny Boy           3         1921       0.0354  100.109\n",
            "12        0.493  1921       0.99000                                        ['Georgel']         0.315       190800   0.363         0  0H3k2CvJvHULnWChlbeFgx          0.000000    5    0.2920   -12.562     0                        La Vipère           0         1921       0.0546  174.532\n",
            "14        0.493  1921       0.01750                                     ['Zay Gatsby']         0.527       205072   0.691         1  0MJZ4hh60zwsYleWWxT5yW          0.384000    7    0.3580    -7.298     1                   Power Is Power           0   1921-03-27       0.0326  159.935\n",
            "17        0.664  1921       0.99600             ['Hector Berlioz', 'Arturo Toscanini']         0.541       250747   0.283         0  0POO8XaUgW5Qjbv9sbDy8W          0.898000    9    0.3930   -14.808     1                    Rákóczy March           0         1921       0.0477  108.986\n",
            "21        0.240  1921       0.99400              ['John McCormack', 'Edwin Schneider']         0.400       187333   0.155         0  0RPKAq5yhbom6hXQz5qo6L          0.000043    4    0.1030   -13.976     1                   Mother Machree           0         1921       0.0873  170.251\n",
            "...         ...   ...           ...                                                ...           ...          ...     ...       ...                     ...               ...  ...       ...       ...   ...                              ...         ...          ...          ...      ...\n",
            "170648    0.608  2020       0.08460  ['Anuel AA', 'Daddy Yankee', 'KAROL G', 'Ozuna...         0.786       301714   0.808         0  0KkIkfsLEJbrcIhYsCL7L5          0.000289    7    0.0822    -3.702     1                            China          72   2020-05-29       0.0881  105.029\n",
            "170649    0.734  2020       0.20600                                       ['Ashnikko']         0.717       150654   0.753         0  0OStKKAuXlxA0fMH54Qs6E          0.000000    7    0.1010    -6.020     1      Halloweenie III: Seven Days          68   2020-10-23       0.0605  137.936\n",
            "170650    0.637  2020       0.10100                                        ['MAMAMOO']         0.634       211280   0.858         0  4BZXVFYCb76Q0Klojq4piV          0.000009    4    0.2580    -2.226     0                              AYA          76   2020-11-03       0.0809   91.688\n",
            "170651    0.195  2020       0.00998                                         ['Eminem']         0.671       337147   0.623         1  5SiZJoLXp3WOl3J4C8IK0d          0.000008    2    0.6430    -7.161     1                         Darkness          70   2020-01-17       0.3080   75.055\n",
            "170652    0.642  2020       0.13200                              ['KEVVO', 'J Balvin']         0.856       189507   0.721         1  7HmnJHfs0BkFzX4x8j0hkl          0.004710    7    0.1820    -4.928     1  Billetes Azules (with J Balvin)          74   2020-10-16       0.1080   94.991\n",
            "\n",
            "[57952 rows x 19 columns]\n",
            "\n",
            "\n",
            " Genres:\n",
            "        mode                  genres  acousticness  danceability   duration_ms    energy  instrumentalness  liveness   loudness  speechiness       tempo   valence  popularity  key\n",
            "0        1  21st century classical      0.979333      0.162883  1.602977e+05  0.071317          0.606834  0.361600 -31.514333     0.040567   75.336500  0.103783   27.833333    6\n",
            "1        1                   432hz      0.494780      0.299333  1.048887e+06  0.450678          0.477762  0.131000 -16.854000     0.076817  120.285667  0.221750   52.500000    5\n",
            "2        1                   8-bit      0.762000      0.712000  1.151770e+05  0.818000          0.876000  0.126000  -9.180000     0.047000  133.444000  0.975000   48.000000    7\n",
            "4        1              a cappella      0.676557      0.538961  1.906285e+05  0.316434          0.003003  0.172254 -12.479387     0.082851  112.110362  0.448249   45.820071    7\n",
            "5        1                abstract      0.459210      0.516167  3.431965e+05  0.442417          0.849667  0.118067 -15.472083     0.046517  127.885750  0.307325   43.500000    1\n",
            "...    ...                     ...           ...           ...           ...       ...               ...       ...        ...          ...         ...       ...         ...  ...\n",
            "2968     1                    zolo      0.222625      0.547082  2.580991e+05  0.610240          0.143872  0.204206 -11.295878     0.061088  125.494919  0.596155   33.778943    9\n",
            "2969     0                 zouglou      0.161000      0.863000  2.063200e+05  0.909000          0.000000  0.108000  -5.985000     0.081300  119.038000  0.845000   58.000000    7\n",
            "2970     1                    zouk      0.263261      0.748889  3.060728e+05  0.622444          0.257227  0.089678 -10.289222     0.038778  101.965222  0.824111   46.666667    5\n",
            "2971     0            zurich indie      0.993000      0.705667  1.984173e+05  0.172667          0.468633  0.179667 -11.453333     0.348667   91.278000  0.739000    0.000000    7\n",
            "2972     1                  zydeco      0.421038      0.629409  1.716717e+05  0.609369          0.019248  0.255877  -9.854825     0.050491  126.366087  0.808544   30.261905    7\n",
            "\n",
            "[2972 rows x 14 columns]\n"
          ],
          "name": "stdout"
        }
      ]
    },
    {
      "cell_type": "markdown",
      "metadata": {
        "id": "Bs1YdJB1Z4J9"
      },
      "source": [
        "### Saving them to a csv file for further processing."
      ]
    },
    {
      "cell_type": "code",
      "metadata": {
        "id": "r5-W6bufDOSo"
      },
      "source": [
        "df_data.to_csv('clean_by_main_data.csv')\r\n",
        "df_artist.to_csv('clean_by_artists.csv')\r\n",
        "df_genres.to_csv('clean_by_genres.csv')\r\n",
        "df_year.to_csv('clean_by_year.csv')\r\n",
        "df_extend_genre.to_csv('clean_by_extended_genre.csv')"
      ],
      "execution_count": 72,
      "outputs": []
    }
  ]
}