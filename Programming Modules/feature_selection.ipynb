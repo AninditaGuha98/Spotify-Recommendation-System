{
  "nbformat": 4,
  "nbformat_minor": 0,
  "metadata": {
    "colab": {
      "name": "feature_selection.ipynb",
      "provenance": []
    },
    "kernelspec": {
      "name": "python3",
      "display_name": "Python 3"
    }
  },
  "cells": [
    {
      "cell_type": "code",
      "metadata": {
        "id": "KahXCy7HKM6b"
      },
      "source": [
        "import pandas as pd\r\n",
        "pd.set_option('display.max_rows', 50)\r\n",
        "pd.set_option('display.max_columns', 500)\r\n",
        "pd.set_option('display.width', 1000)"
      ],
      "execution_count": 2,
      "outputs": []
    },
    {
      "cell_type": "code",
      "metadata": {
        "id": "5_uGcIXyKk9Q"
      },
      "source": [
        "df_song = pd.read_csv('clean_by_main_data.csv')\r\n",
        "df_artist = pd.read_csv('clean_by_artists.csv')\r\n",
        "df_genres = pd.read_csv('clean_by_genres.csv')\r\n",
        "df_year = pd.read_csv('clean_by_year.csv')\r\n",
        "df_extend_genre = pd.read_csv('clean_by_extended_genre.csv')"
      ],
      "execution_count": 29,
      "outputs": []
    },
    {
      "cell_type": "markdown",
      "metadata": {
        "id": "i56lIwtqdKkS"
      },
      "source": [
        "### Read each csv file and select the best context"
      ]
    },
    {
      "cell_type": "code",
      "metadata": {
        "colab": {
          "base_uri": "https://localhost:8080/"
        },
        "id": "zoU9YORzc61S",
        "outputId": "1af55cb7-4c45-4949-c960-ddc17193db13"
      },
      "source": [
        "df_song.drop(['release_date', 'key','id'], axis=1, inplace=True)\r\n",
        "print(df_song)"
      ],
      "execution_count": 30,
      "outputs": [
        {
          "output_type": "stream",
          "text": [
            "       valence  year  acousticness                                            artists  danceability  duration_ms  energy  explicit  instrumentalness  liveness  loudness  mode                             name  popularity  speechiness    tempo\n",
            "0        0.165  1921       0.96700                                   ['Frank Parker']         0.275       210000   0.309         0          0.000028    0.3810    -9.316     1                        Danny Boy           3       0.0354  100.109\n",
            "1        0.493  1921       0.99000                                        ['Georgel']         0.315       190800   0.363         0          0.000000    0.2920   -12.562     0                        La Vipère           0       0.0546  174.532\n",
            "2        0.493  1921       0.01750                                     ['Zay Gatsby']         0.527       205072   0.691         1          0.384000    0.3580    -7.298     1                   Power Is Power           0       0.0326  159.935\n",
            "3        0.664  1921       0.99600             ['Hector Berlioz', 'Arturo Toscanini']         0.541       250747   0.283         0          0.898000    0.3930   -14.808     1                    Rákóczy March           0       0.0477  108.986\n",
            "4        0.240  1921       0.99400              ['John McCormack', 'Edwin Schneider']         0.400       187333   0.155         0          0.000043    0.1030   -13.976     1                   Mother Machree           0       0.0873  170.251\n",
            "...        ...   ...           ...                                                ...           ...          ...     ...       ...               ...       ...       ...   ...                              ...         ...          ...      ...\n",
            "57947    0.608  2020       0.08460  ['Anuel AA', 'Daddy Yankee', 'KAROL G', 'Ozuna...         0.786       301714   0.808         0          0.000289    0.0822    -3.702     1                            China          72       0.0881  105.029\n",
            "57948    0.734  2020       0.20600                                       ['Ashnikko']         0.717       150654   0.753         0          0.000000    0.1010    -6.020     1      Halloweenie III: Seven Days          68       0.0605  137.936\n",
            "57949    0.637  2020       0.10100                                        ['MAMAMOO']         0.634       211280   0.858         0          0.000009    0.2580    -2.226     0                              AYA          76       0.0809   91.688\n",
            "57950    0.195  2020       0.00998                                         ['Eminem']         0.671       337147   0.623         1          0.000008    0.6430    -7.161     1                         Darkness          70       0.3080   75.055\n",
            "57951    0.642  2020       0.13200                              ['KEVVO', 'J Balvin']         0.856       189507   0.721         1          0.004710    0.1820    -4.928     1  Billetes Azules (with J Balvin)          74       0.1080   94.991\n",
            "\n",
            "[57952 rows x 16 columns]\n"
          ],
          "name": "stdout"
        }
      ]
    },
    {
      "cell_type": "code",
      "metadata": {
        "colab": {
          "base_uri": "https://localhost:8080/"
        },
        "id": "gsXjt8SNe1j0",
        "outputId": "1f716447-6f60-4a4b-e19e-6c68394066c2"
      },
      "source": [
        "df_artist.drop(['key'], axis=1, inplace=True)\r\n",
        "print(df_artist)"
      ],
      "execution_count": 31,
      "outputs": [
        {
          "output_type": "stream",
          "text": [
            "       mode  count  acousticness                    artists  danceability  duration_ms    energy  instrumentalness  liveness   loudness  speechiness       tempo   valence  popularity\n",
            "0         1    122      0.173145        \"Weird Al\" Yankovic      0.662787  218948.1967  0.695393      4.980000e-05  0.161102  -9.768705     0.084536  133.031180  0.751344   34.229508\n",
            "1         1      2      0.239000                $atori Zoom      0.883000  141519.0000  0.625000      0.000000e+00  0.076500  -4.098000     0.245000  126.677000  0.871000   67.000000\n",
            "2         1    125      0.141485                $uicideBoy$      0.749344  146386.3920  0.635552      4.567510e-02  0.202253  -6.631304     0.156108  115.022024  0.287286   61.800000\n",
            "3         1      9      0.553889  'Legally Blonde' Ensemble      0.648444  304211.8889  0.441111      2.540000e-05  0.214667 -11.459778     0.495111  114.808444  0.524778   48.666667\n",
            "4         1     16      0.105556               'Til Tuesday      0.557125  255213.5000  0.612250      2.330025e-02  0.127587  -9.638125     0.032150  103.080250  0.532625   34.625000\n",
            "...     ...    ...           ...                        ...           ...          ...       ...               ...       ...        ...          ...         ...       ...         ...\n",
            "10492     1     13      0.155923                  engo Flow      0.749154  358203.1538  0.717000      3.530000e-07  0.260692  -5.635154     0.242454  113.836539  0.575462   66.076923\n",
            "10493     1      8      0.973750              lafur Arnalds      0.350750  215323.0000  0.128075      9.390000e-01  0.099000 -23.222750     0.036925  118.161750  0.108450   58.750000\n",
            "10494     1     40      0.420430                scar Medina      0.606500  277211.9500  0.476150      7.510000e-07  0.189870 -10.224300     0.028560  111.161350  0.475550   37.800000\n",
            "10495     0      2      0.120000              lhan Mimarolu      0.549000  562960.0000  0.527000      3.020000e-05  0.395000 -10.149000     0.154000  133.726000  0.722000   32.000000\n",
            "10496     1      4      0.224100                eljko Bebek      0.569000  238586.5000  0.818500      3.870000e-06  0.095500  -6.640500     0.042500   95.920000  0.564000   43.500000\n",
            "\n",
            "[10497 rows x 14 columns]\n"
          ],
          "name": "stdout"
        }
      ]
    },
    {
      "cell_type": "code",
      "metadata": {
        "colab": {
          "base_uri": "https://localhost:8080/"
        },
        "id": "DqPgv6chfdv7",
        "outputId": "d09e1a53-3fac-417f-b2d6-fe460e80e701"
      },
      "source": [
        "df_year.drop([ 'key'], axis=1, inplace=True)\r\n",
        "print(df_year)"
      ],
      "execution_count": 33,
      "outputs": [
        {
          "output_type": "stream",
          "text": [
            "    mode  year  acousticness  danceability  duration_ms    energy  instrumentalness  liveness   loudness  speechiness       tempo   valence  popularity\n",
            "0      1  1921      0.886896      0.418597  260537.1667  0.231815          0.344878  0.205710 -17.048667     0.073662  101.531493  0.379327    0.653333\n",
            "1      1  1922      0.938592      0.482042  165469.7465  0.237815          0.434195  0.240720 -19.275282     0.116655  100.884521  0.535549    0.140845\n",
            "2      1  1923      0.957247      0.577341  177942.3622  0.262406          0.371733  0.227462 -14.129211     0.093949  114.010730  0.625492    5.389189\n",
            "3      1  1924      0.940200      0.549894  191046.7076  0.344347          0.581701  0.235219 -14.231343     0.092089  120.689572  0.663725    0.661017\n",
            "4      1  1925      0.962607      0.573863  184986.9245  0.278594          0.418297  0.237668 -14.146414     0.111918  115.521921  0.621929    2.604317\n",
            "..   ...   ...           ...           ...          ...       ...               ...       ...        ...          ...         ...       ...         ...\n",
            "95     1  2016      0.284171      0.600202  221396.5103  0.592855          0.093984  0.181170  -8.061056     0.104313  118.652630  0.431532   59.647190\n",
            "96     1  2017      0.286099      0.612217  211115.6968  0.590421          0.097091  0.191713  -8.312630     0.110536  117.202740  0.416476   63.263554\n",
            "97     1  2018      0.267633      0.663500  206001.0071  0.602435          0.054217  0.176326  -7.168785     0.127176  121.922308  0.447921   63.296243\n",
            "98     1  2019      0.278299      0.644814  201024.7881  0.593224          0.077640  0.172616  -7.722192     0.121043  120.235644  0.458818   65.256542\n",
            "99     1  2020      0.219931      0.692904  193728.3975  0.631232          0.016376  0.178535  -6.595067     0.141384  124.283129  0.501048   64.301970\n",
            "\n",
            "[100 rows x 13 columns]\n"
          ],
          "name": "stdout"
        }
      ]
    },
    {
      "cell_type": "code",
      "metadata": {
        "colab": {
          "base_uri": "https://localhost:8080/"
        },
        "id": "5nXWIBBygBqY",
        "outputId": "9b13b887-b84d-475a-ad15-7ab720ecebb2"
      },
      "source": [
        "df_extend_genre.drop(['key'], axis=1, inplace=True)\r\n",
        "print(df_extend_genre)"
      ],
      "execution_count": 35,
      "outputs": [
        {
          "output_type": "stream",
          "text": [
            "                                                  genres                    artists  acousticness  danceability  duration_ms    energy  instrumentalness  liveness   loudness  speechiness       tempo   valence  popularity  mode  count\n",
            "0                     ['comedy rock', 'comic', 'parody']        \"Weird Al\" Yankovic      0.173145      0.662787  218948.1967  0.695393      4.980000e-05  0.161102  -9.768705     0.084536  133.031180  0.751344   34.229508     1    122\n",
            "1                              ['dark trap', 'meme rap']                $atori Zoom      0.239000      0.883000  141519.0000  0.625000      0.000000e+00  0.076500  -4.098000     0.245000  126.677000  0.871000   67.000000     1      2\n",
            "2      ['dark trap', 'new orleans rap', 'underground ...                $uicideBoy$      0.141485      0.749344  146386.3920  0.635552      4.567510e-02  0.202253  -6.631304     0.156108  115.022024  0.287286   61.800000     1    125\n",
            "3                ['broadway', 'hollywood', 'show tunes']  'Legally Blonde' Ensemble      0.553889      0.648444  304211.8889  0.441111      2.540000e-05  0.214667 -11.459778     0.495111  114.808444  0.524778   48.666667     1      9\n",
            "4      ['boston rock', 'dance rock', 'new romantic', ...               'Til Tuesday      0.105556      0.557125  255213.5000  0.612250      2.330025e-02  0.127587  -9.638125     0.032150  103.080250  0.532625   34.625000     1     16\n",
            "...                                                  ...                        ...           ...           ...          ...       ...               ...       ...        ...          ...         ...       ...         ...   ...    ...\n",
            "10492  ['latin', 'latin hip hop', 'reggaeton', 'regga...                  engo Flow      0.155923      0.749154  358203.1538  0.717000      3.530000e-07  0.260692  -5.635154     0.242454  113.836539  0.575462   66.076923     1     13\n",
            "10493  ['bow pop', 'compositional ambient', 'icelandi...              lafur Arnalds      0.973750      0.350750  215323.0000  0.128075      9.390000e-01  0.099000 -23.222750     0.036925  118.161750  0.108450   58.750000     1      8\n",
            "10494                  ['adventista', 'latin christian']                scar Medina      0.420430      0.606500  277211.9500  0.476150      7.510000e-07  0.189870 -10.224300     0.028560  111.161350  0.475550   37.800000     1     40\n",
            "10495       ['musique concrete', 'turkish experimental']              lhan Mimarolu      0.120000      0.549000  562960.0000  0.527000      3.020000e-05  0.395000 -10.149000     0.154000  133.726000  0.722000   32.000000     0      2\n",
            "10496  ['balkan brass', 'croatian pop', 'croatian roc...                eljko Bebek      0.224100      0.569000  238586.5000  0.818500      3.870000e-06  0.095500  -6.640500     0.042500   95.920000  0.564000   43.500000     1      4\n",
            "\n",
            "[10497 rows x 15 columns]\n"
          ],
          "name": "stdout"
        }
      ]
    },
    {
      "cell_type": "code",
      "metadata": {
        "id": "s-jTYDkIg-Ra"
      },
      "source": [
        "df_song.to_csv('fs_by_song.csv')\r\n",
        "df_artist.to_csv('fs_by_artists.csv')\r\n",
        "df_genres.to_csv('fs_by_genres.csv')\r\n",
        "df_year.to_csv('fs_by_year.csv')\r\n",
        "df_extend_genre.to_csv('fs_by_extended_genre.csv')"
      ],
      "execution_count": 36,
      "outputs": []
    },
    {
      "cell_type": "code",
      "metadata": {
        "id": "n9r26vlehGrD"
      },
      "source": [
        ""
      ],
      "execution_count": null,
      "outputs": []
    }
  ]
}