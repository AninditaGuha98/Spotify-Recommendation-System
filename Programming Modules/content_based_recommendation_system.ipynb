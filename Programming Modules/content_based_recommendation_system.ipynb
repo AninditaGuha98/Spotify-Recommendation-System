{
  "nbformat": 4,
  "nbformat_minor": 0,
  "metadata": {
    "colab": {
      "name": "content_based.ipynb",
      "provenance": [],
      "toc_visible": true
    },
    "kernelspec": {
      "name": "python3",
      "display_name": "Python 3"
    }
  },
  "cells": [
    {
      "cell_type": "markdown",
      "metadata": {
        "id": "nmuQtx9_Pw6-"
      },
      "source": [
        "## Implementing content based recommendation system using cosine similarity for\r\n",
        "1. Recommendation for artists.\r\n",
        "2. Recommendation for songs."
      ]
    },
    {
      "cell_type": "code",
      "metadata": {
        "id": "4lPgXpewlA3i"
      },
      "source": [
        "import pandas as pd\r\n",
        "import numpy as np\r\n",
        "from sklearn.feature_extraction.text import CountVectorizer\r\n",
        "from sklearn.metrics.pairwise import cosine_similarity\r\n",
        "\r\n",
        "pd.set_option('display.max_rows', 50)\r\n",
        "pd.set_option('display.max_columns', 500)\r\n",
        "pd.set_option('display.width', 1000)\r\n",
        "\r\n",
        "# df = pd.read_csv(\"artists.csv\")\r\n",
        "df_song = pd.read_csv('songs.csv')"
      ],
      "execution_count": 1,
      "outputs": []
    },
    {
      "cell_type": "markdown",
      "metadata": {
        "id": "hi3laotRQWKI"
      },
      "source": [
        "## **Recommendation for artists**\r\n",
        "\r\n",
        "1. Gathered all the necessary features from the csv file.\r\n",
        "2. Fetched and combined the selected features for all the rows in the dataframe.\r\n",
        "3. Performed countvectorization for the complete dataframe\r\n",
        "4. Fetched a cosine similarity for the matrix.\r\n",
        "5. For each artist, a list of tuples are created with values such as (artist_index, similarity value).\r\n",
        "6. The list is then sorted based on the user_choice for the artist index.\r\n",
        "7. Top n number of artists which are similar, are displayed."
      ]
    },
    {
      "cell_type": "code",
      "metadata": {
        "colab": {
          "base_uri": "https://localhost:8080/"
        },
        "id": "CFaVdCMZOI2F",
        "outputId": "87b06242-2e48-4934-b41a-8134ed58145b"
      },
      "source": [
        "features = ['mode','duration_ms','instrumentalness','acousticness','danceability','energy','liveness','loudness','speechiness', 'tempo','valence']\r\n",
        "\r\n",
        "def combine_all_features(row):\r\n",
        "    return str(row['mode']) +\" \"+ str(row['duration_ms']) +\" \"+ str(row['instrumentalness']) +\" \"+ str(row['acousticness']) +\" \"+ str(row['danceability'])+\" \"+ str(row[\"energy\"])+\" \"+str(row[\"liveness\"])+\" \"+str(row[\"loudness\"])+\" \"+str(row[\"speechiness\"])+\" \"+str(row[\"tempo\"])+\" \"+str(row[\"valence\"])\r\n",
        "\r\n",
        "df['combined_features'] = df.apply(combine_all_features,axis=1)\r\n",
        "\r\n",
        "\r\n",
        "cv = CountVectorizer()\r\n",
        "count_matrix = cv.fit_transform(df['combined_features'])\r\n",
        "cosine_sim = cosine_similarity(count_matrix)\r\n",
        "\r\n",
        "\r\n",
        "def fetch_artist_from_index(index):\r\n",
        "    return df[df.index == index][\"artists\"].values[0]\r\n",
        "\r\n",
        "def fetch_index_from_artist(artists):\r\n",
        "    return df[df.artists == artists][\"index\"].values[0]\r\n",
        "\r\n",
        "user_choice_for_singer = \"Justin Timberlake\"\r\n",
        "artist_index = fetch_index_from_artist(user_choice_for_singer)\r\n",
        "\r\n",
        "similar_artists =  list(enumerate(cosine_sim[artist_index]))\r\n",
        "\r\n",
        "sim_artist_sort = sorted(similar_artists,key=lambda x:x[1],reverse=True)[1:]\r\n",
        "\r\n",
        "i=0\r\n",
        "print(\"Top 10 similar artists/singers to \"+ user_choice_for_singer +\" are:\\n\")\r\n",
        "for element in sim_artist_sort:\r\n",
        "    print(i+1,'->',fetch_artist_from_index(element[0]))\r\n",
        "    i=i+1\r\n",
        "    if i>=10:\r\n",
        "        break"
      ],
      "execution_count": null,
      "outputs": [
        {
          "output_type": "stream",
          "text": [
            "Top 10 similar artists/singers to Justin Timberlake are:\n",
            "\n",
            "1 -> 9tails\n",
            "2 -> Dyo\n",
            "3 -> Jakkybo\n",
            "4 -> NEIKED\n",
            "5 -> SHINHWA\n",
            "6 -> Sonny Bono\n",
            "7 -> Tay Dizm\n",
            "8 -> The Rocket Summer\n",
            "9 -> Atlanta\n",
            "10 -> Big D and the Kids Table\n"
          ],
          "name": "stdout"
        }
      ]
    },
    {
      "cell_type": "markdown",
      "metadata": {
        "id": "iH60Io2vRoWG"
      },
      "source": [
        "## **Recommendation for songs by applying the same technique**"
      ]
    },
    {
      "cell_type": "markdown",
      "metadata": {
        "id": "QCNb7SJcSg6s"
      },
      "source": [
        "Removed some unnecessary list values for the artists and stored it in a seperate csv file."
      ]
    },
    {
      "cell_type": "code",
      "metadata": {
        "colab": {
          "base_uri": "https://localhost:8080/"
        },
        "id": "_ghzmWdYCQii",
        "outputId": "fe12ebbd-0d8b-476c-b090-cd74eaad10f9"
      },
      "source": [
        "import re\r\n",
        "for index in range(len(df_song)):\r\n",
        "    artists_list = df_song.iloc[index]['artists']\r\n",
        "    list1 = re.findall('[\\w ]+', artists_list)\r\n",
        "    variables = []\r\n",
        "    for val in list1:\r\n",
        "        if re.search(\"^\\s*$\", val):\r\n",
        "            pass\r\n",
        "        else:\r\n",
        "            variables.append(val)\r\n",
        "    answer = ' '.join(variables)\r\n",
        "    df_song.loc[index,'artists'] = answer\r\n",
        "print(df_song)"
      ],
      "execution_count": null,
      "outputs": [
        {
          "output_type": "stream",
          "text": [
            "       index  valence  year  acousticness                                       artists  danceability  duration_ms  energy  explicit  instrumentalness  liveness  loudness  mode                             name  popularity  speechiness    tempo\n",
            "0          0    0.165  1921       0.96700                                  Frank Parker         0.275       210000   0.309         0          0.000028    0.3810    -9.316     1                        Danny Boy           3       0.0354  100.109\n",
            "1          1    0.493  1921       0.99000                                       Georgel         0.315       190800   0.363         0          0.000000    0.2920   -12.562     0                        La Vipère           0       0.0546  174.532\n",
            "2          2    0.493  1921       0.01750                                    Zay Gatsby         0.527       205072   0.691         1          0.384000    0.3580    -7.298     1                   Power Is Power           0       0.0326  159.935\n",
            "3          3    0.664  1921       0.99600               Hector Berlioz Arturo Toscanini         0.541       250747   0.283         0          0.898000    0.3930   -14.808     1                    Rákóczy March           0       0.0477  108.986\n",
            "4          4    0.240  1921       0.99400                John McCormack Edwin Schneider         0.400       187333   0.155         0          0.000043    0.1030   -13.976     1                   Mother Machree           0       0.0873  170.251\n",
            "...      ...      ...   ...           ...                                           ...           ...          ...     ...       ...               ...       ...       ...   ...                              ...         ...          ...      ...\n",
            "57947  57947    0.608  2020       0.08460  Anuel AA Daddy Yankee KAROL G Ozuna J Balvin         0.786       301714   0.808         0          0.000289    0.0822    -3.702     1                            China          72       0.0881  105.029\n",
            "57948  57948    0.734  2020       0.20600                                      Ashnikko         0.717       150654   0.753         0          0.000000    0.1010    -6.020     1      Halloweenie III: Seven Days          68       0.0605  137.936\n",
            "57949  57949    0.637  2020       0.10100                                       MAMAMOO         0.634       211280   0.858         0          0.000009    0.2580    -2.226     0                              AYA          76       0.0809   91.688\n",
            "57950  57950    0.195  2020       0.00998                                        Eminem         0.671       337147   0.623         1          0.000008    0.6430    -7.161     1                         Darkness          70       0.3080   75.055\n",
            "57951  57951    0.642  2020       0.13200                                KEVVO J Balvin         0.856       189507   0.721         1          0.004710    0.1820    -4.928     1  Billetes Azules (with J Balvin)          74       0.1080   94.991\n",
            "\n",
            "[57952 rows x 17 columns]\n"
          ],
          "name": "stdout"
        }
      ]
    },
    {
      "cell_type": "markdown",
      "metadata": {
        "id": "7SZOycNKSvG_"
      },
      "source": [
        "Since the data is too huge to create a matrix for cosine similarity, I am removing some rows from the dataframe randomly."
      ]
    },
    {
      "cell_type": "code",
      "metadata": {
        "colab": {
          "base_uri": "https://localhost:8080/"
        },
        "id": "HQcwghyRSulD",
        "outputId": "f85ebe9d-2d3c-43e8-88b5-d06295b4cd68"
      },
      "source": [
        "import numpy as np\r\n",
        "np.random.seed(10)\r\n",
        "\r\n",
        "remove_n = 20000\r\n",
        "drop_indices = np.random.choice(df_song.index, remove_n, replace=False)\r\n",
        "df_song = df_song.drop(drop_indices)\r\n",
        "\r\n",
        "df_song.index = range(len(df_song.index))\r\n",
        "\r\n",
        "# df_song.to_csv('updated_songs2.csv')\r\n",
        "print(df_song)"
      ],
      "execution_count": null,
      "outputs": [
        {
          "output_type": "stream",
          "text": [
            "       index  valence  year  acousticness                                       artists  danceability  duration_ms  energy  explicit  instrumentalness  liveness  loudness  mode                                name  popularity  speechiness    tempo\n",
            "0          3    0.664  1921       0.99600               Hector Berlioz Arturo Toscanini         0.541       250747   0.283         0          0.898000    0.3930   -14.808     1                       Rákóczy March           0       0.0477  108.986\n",
            "1          4    0.240  1921       0.99400                John McCormack Edwin Schneider         0.400       187333   0.155         0          0.000043    0.1030   -13.976     1                      Mother Machree           0       0.0873  170.251\n",
            "2          6    0.791  1921       0.99100         Ermanno Wolf Ferrari Arturo Toscanini         0.465       151187   0.284         0          0.022500    0.1460   -17.776     1                            Overture           0       0.0591   98.336\n",
            "3         10    0.234  1921       0.99200          Ildebrando Pizzetti Arturo Toscanini         0.251       207800   0.275         0          0.785000    0.2940   -17.295     0  II. Le quai du porte de Famagouste           0       0.0371   94.264\n",
            "4         12    0.552  1921       0.99400                                    Andr Urban         0.426       177733   0.226         0          0.000000    0.2350   -16.126     1          Elle Porte Un Nom Charmant           0       0.0693   73.630\n",
            "...      ...      ...   ...           ...                                           ...           ...          ...     ...       ...               ...       ...       ...   ...                                 ...         ...          ...      ...\n",
            "17947  57930    0.327  2020       0.21700                    YoungBoy Never Broke Again         0.485       156077   0.814         1          0.000000    0.1120    -3.907     1                             Red Eye          63       0.1380  159.894\n",
            "17948  57939    0.694  2020       0.06990         Loud Luxury Frank Walker Stephen Puth         0.759       176389   0.845         0          0.000087    0.2150    -6.794     0                           Like Gold          69       0.0421  124.000\n",
            "17949  57947    0.608  2020       0.08460  Anuel AA Daddy Yankee KAROL G Ozuna J Balvin         0.786       301714   0.808         0          0.000289    0.0822    -3.702     1                               China          72       0.0881  105.029\n",
            "17950  57948    0.734  2020       0.20600                                      Ashnikko         0.717       150654   0.753         0          0.000000    0.1010    -6.020     1         Halloweenie III: Seven Days          68       0.0605  137.936\n",
            "17951  57950    0.195  2020       0.00998                                        Eminem         0.671       337147   0.623         1          0.000008    0.6430    -7.161     1                            Darkness          70       0.3080   75.055\n",
            "\n",
            "[17952 rows x 17 columns]\n"
          ],
          "name": "stdout"
        }
      ]
    },
    {
      "cell_type": "code",
      "metadata": {
        "colab": {
          "base_uri": "https://localhost:8080/"
        },
        "id": "VpRxtQa0VcnU",
        "outputId": "03619145-4a0d-477b-897d-5f602ba1d3fb"
      },
      "source": [
        "df_song = pd.read_csv('updated_songs2.csv')\r\n",
        "print(df_song)"
      ],
      "execution_count": 2,
      "outputs": [
        {
          "output_type": "stream",
          "text": [
            "       index  valence  year  acousticness                                            artists  danceability  duration_ms  energy  explicit  instrumentalness  liveness  loudness  mode                                name  popularity  speechiness    tempo\n",
            "0          0    0.493  1921       0.01750                                         Zay Gatsby         0.527       205072   0.691         1          0.384000    0.3580    -7.298     1                      Power Is Power           0       0.0326  159.935\n",
            "1          1    0.664  1921       0.99600                    Hector Berlioz Arturo Toscanini         0.541       250747   0.283         0          0.898000    0.3930   -14.808     1                       Rákóczy March           0       0.0477  108.986\n",
            "2          2    0.240  1921       0.99400                     John McCormack Edwin Schneider         0.400       187333   0.155         0          0.000043    0.1030   -13.976     1                      Mother Machree           0       0.0873  170.251\n",
            "3          3    0.791  1921       0.99100              Ermanno Wolf Ferrari Arturo Toscanini         0.465       151187   0.284         0          0.022500    0.1460   -17.776     1                            Overture           0       0.0591   98.336\n",
            "4          4    0.234  1921       0.99200               Ildebrando Pizzetti Arturo Toscanini         0.251       207800   0.275         0          0.785000    0.2940   -17.295     0  II. Le quai du porte de Famagouste           0       0.0371   94.264\n",
            "...      ...      ...   ...           ...                                                ...           ...          ...     ...       ...               ...       ...       ...   ...                                 ...         ...          ...      ...\n",
            "37947  37947    0.907  2020       0.00952  DJ Scheme Cordae Ski Mask The Slump God Take A...         0.917       228333   0.569         1          0.000000    0.0774   -10.456     1         Soda (feat. Take A Daytrip)          66       0.2790  144.014\n",
            "37948  37948    0.608  2020       0.08460       Anuel AA Daddy Yankee KAROL G Ozuna J Balvin         0.786       301714   0.808         0          0.000289    0.0822    -3.702     1                               China          72       0.0881  105.029\n",
            "37949  37949    0.734  2020       0.20600                                           Ashnikko         0.717       150654   0.753         0          0.000000    0.1010    -6.020     1         Halloweenie III: Seven Days          68       0.0605  137.936\n",
            "37950  37950    0.637  2020       0.10100                                            MAMAMOO         0.634       211280   0.858         0          0.000009    0.2580    -2.226     0                                 AYA          76       0.0809   91.688\n",
            "37951  37951    0.195  2020       0.00998                                             Eminem         0.671       337147   0.623         1          0.000008    0.6430    -7.161     1                            Darkness          70       0.3080   75.055\n",
            "\n",
            "[37952 rows x 17 columns]\n"
          ],
          "name": "stdout"
        }
      ]
    },
    {
      "cell_type": "markdown",
      "metadata": {
        "id": "uDOkLkJkTDnJ"
      },
      "source": [
        "Implementing the same type of method, just working differently with different other features."
      ]
    },
    {
      "cell_type": "code",
      "metadata": {
        "id": "EnbdmbYWlzLz",
        "colab": {
          "base_uri": "https://localhost:8080/"
        },
        "outputId": "20de27b0-25b5-443e-e2dc-ec689b1e3fbc"
      },
      "source": [
        "features = ['explicit','mode','instrumentalness','acousticness','danceability','energy',\r\n",
        "            'liveness','loudness','speechiness', 'tempo','valence']\r\n",
        "\r\n",
        "def combine_features(row):\r\n",
        "    return str(row['explicit']) +\" \"+ str(row['mode']) +\" \"+ str(row['instrumentalness'])\r\n",
        "    +\" \"+ str(row['acousticness']) +\" \"+ str(row['danceability'])+\" \"+ str(row[\"energy\"])+\" \"+str(row[\"liveness\"])\r\n",
        "    +\" \"+str(row[\"loudness\"])+\" \"+str(row[\"speechiness\"])+\" \"+str(row[\"tempo\"])+\" \"+str(row[\"valence\"])\r\n",
        "\r\n",
        "\r\n",
        "df_song['combined_features'] = df_song.apply(combine_features,axis=1)\r\n",
        "\r\n",
        "cv = CountVectorizer()\r\n",
        "count_matrix = cv.fit_transform(df_song['combined_features'])\r\n",
        "cosine_sim = cosine_similarity(count_matrix)\r\n",
        "\r\n",
        "def fetch_song_from_index(index):\r\n",
        "    return df_song[df_song.index == index][\"name\"].values[0]\r\n",
        "\r\n",
        "def fetch_index_from_song(name):\r\n",
        "    return df_song[df_song.name == name][\"index\"].values[0]\r\n",
        "\r\n",
        "user_choice_song = \"Zor Laga Le\"\r\n",
        "song_index = fetch_index_from_song(user_choice_song)\r\n",
        "\r\n",
        "similar_songs =  list(enumerate(cosine_sim[song_index]))\r\n",
        "\r\n",
        "similar_songs_sorted = sorted(similar_songs,key=lambda x:x[1],reverse=True)[1:]\r\n",
        "\r\n",
        "i=0\r\n",
        "print(\"Top 10 similar songs to \"+ user_choice_song +\" are:\\n\")\r\n",
        "for element in similar_songs_sorted:\r\n",
        "    print(i+1,'->',fetch_song_from_index(element[0]))\r\n",
        "    i=i+1\r\n",
        "    if i>=10:\r\n",
        "        break\r\n"
      ],
      "execution_count": 3,
      "outputs": [
        {
          "output_type": "stream",
          "text": [
            "Top 10 similar songs to Zor Laga Le are:\n",
            "\n",
            "1 -> Crave You - Adventure Club Remix\n",
            "2 -> Why Do You Love Me\n",
            "3 -> Too Young\n",
            "4 -> Te Diré\n",
            "5 -> Walkin' The Floor Over You\n",
            "6 -> Carry On (from the Original Motion Picture \"POKÉMON Detective Pikachu\")\n",
            "7 -> Zor Laga Le\n",
            "8 -> Turn Around\n",
            "9 -> Paint It Black Medley: Black On Black In Black / Paint It Black / Laurel & Hardy / Pintello Negro / P.C.3 / Blackbird\n",
            "10 -> Worlds to Run\n"
          ],
          "name": "stdout"
        }
      ]
    },
    {
      "cell_type": "code",
      "metadata": {
        "id": "XTObhxEAVtDy"
      },
      "source": [
        ""
      ],
      "execution_count": null,
      "outputs": []
    }
  ]
}