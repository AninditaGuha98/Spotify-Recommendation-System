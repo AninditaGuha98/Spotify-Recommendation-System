{
  "nbformat": 4,
  "nbformat_minor": 0,
  "metadata": {
    "colab": {
      "name": "popularity_based_recommendation_system.ipynb",
      "provenance": []
    },
    "kernelspec": {
      "name": "python3",
      "display_name": "Python 3"
    }
  },
  "cells": [
    {
      "cell_type": "markdown",
      "metadata": {
        "id": "bkxXtYajb4aN"
      },
      "source": [
        "### **Popularity based recommendation system**\r\n",
        "Implementing two different type of popularity systems"
      ]
    },
    {
      "cell_type": "code",
      "metadata": {
        "id": "LiIa_s5NssD9"
      },
      "source": [
        "import pandas as pd"
      ],
      "execution_count": 2,
      "outputs": []
    },
    {
      "cell_type": "code",
      "metadata": {
        "colab": {
          "base_uri": "https://localhost:8080/"
        },
        "id": "yBnSfyo2uVqg",
        "outputId": "ab56704b-b73f-4ae8-904a-90ecd822a98f"
      },
      "source": [
        "df_artists = pd.read_csv('artists.csv')\r\n",
        "df_songs = pd.read_csv('songs.csv')\r\n",
        "print(df_artists)\r\n",
        "print(df_songs)"
      ],
      "execution_count": 67,
      "outputs": [
        {
          "output_type": "stream",
          "text": [
            "Index(['index', 'mode', 'count', 'acousticness', 'artists', 'danceability',\n",
            "       'duration_ms', 'energy', 'instrumentalness', 'liveness', 'loudness',\n",
            "       'speechiness', 'tempo', 'valence', 'popularity'],\n",
            "      dtype='object')\n",
            "       index  valence  year  ...  popularity speechiness    tempo\n",
            "0          0    0.165  1921  ...           3      0.0354  100.109\n",
            "1          1    0.493  1921  ...           0      0.0546  174.532\n",
            "2          2    0.493  1921  ...           0      0.0326  159.935\n",
            "3          3    0.664  1921  ...           0      0.0477  108.986\n",
            "4          4    0.240  1921  ...           0      0.0873  170.251\n",
            "...      ...      ...   ...  ...         ...         ...      ...\n",
            "57947  57947    0.608  2020  ...          72      0.0881  105.029\n",
            "57948  57948    0.734  2020  ...          68      0.0605  137.936\n",
            "57949  57949    0.637  2020  ...          76      0.0809   91.688\n",
            "57950  57950    0.195  2020  ...          70      0.3080   75.055\n",
            "57951  57951    0.642  2020  ...          74      0.1080   94.991\n",
            "\n",
            "[57952 rows x 17 columns]\n"
          ],
          "name": "stdout"
        }
      ]
    },
    {
      "cell_type": "markdown",
      "metadata": {
        "id": "JAkJ6vCNAltg"
      },
      "source": [
        "### Implementing popularity based for **artists** where the **popularity is closer** or similar to the one selected."
      ]
    },
    {
      "cell_type": "code",
      "metadata": {
        "id": "_AAI5rSJuagR"
      },
      "source": [
        "fav_artist = 'Akon'\r\n",
        "popularity_of_fav_artist = df_artists.loc[df_artists['artists'] == fav_artist]['popularity']\r\n",
        "fav_pop = popularity_of_fav_artist.astype(float)\r\n"
      ],
      "execution_count": 68,
      "outputs": []
    },
    {
      "cell_type": "code",
      "metadata": {
        "colab": {
          "base_uri": "https://localhost:8080/"
        },
        "id": "kRgHegTWFIMA",
        "outputId": "76fcabe6-b305-4101-ddd6-99e2a94ae62d"
      },
      "source": [
        "upper_range = fav_pop + 5\r\n",
        "lower_range = fav_pop - 5\r\n",
        "df_selected_artists = df_artists[(df_artists['popularity'] <= upper_range.values[0]) & (df_artists['popularity'] >= lower_range.values[0])]\r\n",
        "df_selected_artists = df_selected_artists.sort_values(by=['popularity'], ascending=False)\r\n",
        "print(df_selected_artists)"
      ],
      "execution_count": 69,
      "outputs": [
        {
          "output_type": "stream",
          "text": [
            "       index  mode  count  ...       tempo   valence  popularity\n",
            "3          3     1      9  ...  114.808444  0.524778   48.666667\n",
            "8          8     0      2  ...  149.368000  0.743000   50.000000\n",
            "12        12     1     48  ...  114.645271  0.551167   50.166667\n",
            "13        13     1     12  ...  138.692167  0.450667   50.500000\n",
            "15        15     0      2  ...   99.802000  0.840000   56.000000\n",
            "...      ...   ...    ...  ...         ...       ...         ...\n",
            "10478  10478     1      4  ...  104.795500  0.506000   50.500000\n",
            "10479  10479     0      2  ...  126.921000  0.198000   53.000000\n",
            "10484  10484     0      2  ...   91.428000  0.037000   55.000000\n",
            "10485  10485     1      6  ...  133.621000  0.493000   50.666667\n",
            "10487  10487     1      2  ...   99.927000  0.302000   48.000000\n",
            "\n",
            "[2341 rows x 15 columns]\n"
          ],
          "name": "stdout"
        }
      ]
    },
    {
      "cell_type": "code",
      "metadata": {
        "colab": {
          "base_uri": "https://localhost:8080/"
        },
        "id": "zcVpOpOvMSjH",
        "outputId": "463fa2f7-e872-421d-e97c-bff5cfb28aff"
      },
      "source": [
        "artists = df_selected_artists['artists'].tolist()\r\n",
        "print(\"Recommendation based on the artist \", fav_artist,':')\r\n",
        "i=0\r\n",
        "for artist in artists:\r\n",
        "  print(i+1,'->',artist)\r\n",
        "  i=i+1\r\n",
        "  if i==10:\r\n",
        "    break"
      ],
      "execution_count": 73,
      "outputs": [
        {
          "output_type": "stream",
          "text": [
            "Recommendation based on  Akon :\n",
            "1 -> Lana Del Rey\n",
            "2 -> Lady Gaga\n",
            "3 -> Fito Paez\n",
            "4 -> Colbie Caillat\n",
            "5 -> Earl Sweatshirt\n",
            "6 -> Trebol Clan\n",
            "7 -> Noname\n",
            "8 -> Dr. Dog\n",
            "9 -> B.o.B\n",
            "10 -> Laura Pausini\n"
          ],
          "name": "stdout"
        }
      ]
    },
    {
      "cell_type": "markdown",
      "metadata": {
        "id": "6zIz5DOvOKW7"
      },
      "source": [
        "Recommendation for **songs** based on closeness in **popularity range**"
      ]
    },
    {
      "cell_type": "code",
      "metadata": {
        "colab": {
          "base_uri": "https://localhost:8080/"
        },
        "id": "VJvcpvjlNaC6",
        "outputId": "ef3bc479-92fc-4998-c266-ae8bb71888ef"
      },
      "source": [
        "fav_song = 'Past Life (with Selena Gomez)'\r\n",
        "popularity_of_fav_song = df_songs.loc[df_songs['name'] == fav_song]['popularity']\r\n",
        "fav_pop = popularity_of_fav_song.astype(float)\r\n",
        "upper_range = fav_pop + 5\r\n",
        "lower_range = fav_pop - 5\r\n",
        "df_selected_songs = df_songs[(df_songs['popularity'] <= upper_range.values[0]) & (df_songs['popularity'] >= lower_range.values[0])]\r\n",
        "df_selected_songs = df_selected_songs.sort_values(by=['popularity'], ascending=False)\r\n",
        "print(df_selected_songs)\r\n"
      ],
      "execution_count": 75,
      "outputs": [
        {
          "output_type": "stream",
          "text": [
            "       index  valence  year  ...  popularity speechiness    tempo\n",
            "2706    2706    0.661  2016  ...          84      0.0338   95.010\n",
            "26009  26009    0.637  2020  ...          84      0.0397  120.030\n",
            "6549    6549    0.586  2020  ...          84      0.0470   93.037\n",
            "38979  38979    0.660  2020  ...          84      0.2950  144.511\n",
            "38975  38975    0.198  2020  ...          84      0.0568  123.062\n",
            "...      ...      ...   ...  ...         ...         ...      ...\n",
            "10672  10672    0.568  2019  ...          74      0.3010  123.017\n",
            "10664  10664    0.195  2019  ...          74      0.0312  118.037\n",
            "10660  10660    0.338  2019  ...          74      0.1240  136.001\n",
            "10656  10656    0.797  2019  ...          74      0.0368  153.976\n",
            "57951  57951    0.642  2020  ...          74      0.1080   94.991\n",
            "\n",
            "[885 rows x 17 columns]\n"
          ],
          "name": "stdout"
        }
      ]
    },
    {
      "cell_type": "code",
      "metadata": {
        "colab": {
          "base_uri": "https://localhost:8080/"
        },
        "id": "qEfdfIHgOIzl",
        "outputId": "ff077dcc-86bf-46c1-e439-85b6192a7b80"
      },
      "source": [
        "songs = df_selected_songs['name'].tolist()\r\n",
        "print(\"Recommendation based on the song \", fav_song,':')\r\n",
        "i=0\r\n",
        "for song in songs:\r\n",
        "  print(i+1,'->',song)\r\n",
        "  i=i+1\r\n",
        "  if i==10:\r\n",
        "    break"
      ],
      "execution_count": 76,
      "outputs": [
        {
          "output_type": "stream",
          "text": [
            "Recommendation based on  Past Life (with Selena Gomez) :\n",
            "1 -> Closer\n",
            "2 -> Some Say - Felix Jaehn Remix\n",
            "3 -> La Santa\n",
            "4 -> El Mismo Aire - con Pablo Alborán\n",
            "5 -> Lovefool\n",
            "6 -> Supalonely\n",
            "7 -> #NAME?\n",
            "8 -> Hate The Other Side (with Marshmello & The Kid Laroi)\n",
            "9 -> OK Not To Be OK\n",
            "10 -> Falling Down - Bonus Track\n"
          ],
          "name": "stdout"
        }
      ]
    },
    {
      "cell_type": "markdown",
      "metadata": {
        "id": "3iwCGh13PQ-5"
      },
      "source": [
        "## Recommendation based on **most popular tracks or artists (Top 10)**"
      ]
    },
    {
      "cell_type": "code",
      "metadata": {
        "colab": {
          "base_uri": "https://localhost:8080/"
        },
        "id": "hata4EyzPNK7",
        "outputId": "8cd5842a-2b4e-4de2-ccb2-a698d014840b"
      },
      "source": [
        "df_artists = df_artists.sort_values(by=['popularity'], ascending=False)\r\n",
        "df_songs = df_songs.sort_values(by=['popularity'], ascending=False)\r\n",
        "\r\n",
        "artists = df_artists['artists'].tolist()\r\n",
        "songs = df_songs['name'].tolist()\r\n",
        "\r\n",
        "print(\"Most popular/trending artists of the year: \")\r\n",
        "i=0\r\n",
        "for artist in artists:\r\n",
        "  print(i+1,'->',artist)\r\n",
        "  i=i+1\r\n",
        "  if i==10:\r\n",
        "    break\r\n",
        "\r\n",
        "print(\"\\n\\nMost popular/trending songs of the year:\")\r\n",
        "i=0\r\n",
        "for song in songs:\r\n",
        "  print(i+1,'->',song)\r\n",
        "  i=i+1\r\n",
        "  if i==10:\r\n",
        "    break"
      ],
      "execution_count": 79,
      "outputs": [
        {
          "output_type": "stream",
          "text": [
            "Most popular/trending artists of the year: \n",
            "1 -> Lele Pons\n",
            "2 -> Jerry Di\n",
            "3 -> Surf Mesa\n",
            "4 -> Emilee\n",
            "5 -> A7S\n",
            "6 -> Nomcebo Zikode\n",
            "7 -> Master KG\n",
            "8 -> Osquel\n",
            "9 -> Octavian\n",
            "10 -> THE SCOTTS\n",
            "\n",
            "\n",
            "Most popular/trending songs of the year:\n",
            "1 -> Dakiti\n",
            "2 -> Mood (feat. iann dior)\n",
            "3 -> WAP (feat. Megan Thee Stallion)\n",
            "4 -> Lonely (with benny blanco)\n",
            "5 -> Holy (feat. Chance The Rapper)\n",
            "6 -> Relación - Remix\n",
            "7 -> Head & Heart (feat. MNEK)\n",
            "8 -> Laugh Now Cry Later (feat. Lil Durk)\n",
            "9 -> Put Your Records On\n",
            "10 -> La Nota\n"
          ],
          "name": "stdout"
        }
      ]
    }
  ]
}